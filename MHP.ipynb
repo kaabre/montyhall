{
 "cells": [
  {
   "cell_type": "markdown",
   "metadata": {},
   "source": [
    "# Monty Hall problem"
   ]
  },
  {
   "cell_type": "code",
   "execution_count": 1,
   "metadata": {
    "collapsed": true
   },
   "outputs": [],
   "source": [
    "nrun <- 10000 #how many times to run sim\n",
    "n_door_start = 3 #how many doors do we have to begin with"
   ]
  },
  {
   "cell_type": "markdown",
   "metadata": {},
   "source": [
    "Set up your base variables.  (These will change later in the notebook, and/or you can change them on your own.)  nrun is how many times we're going to run a simulation of the Monty Hall Game, and n_door_start is the number of doors we start with -- which will default to 3 as in the original problem.\n",
    "\n",
    "So, we are going to run 1000 Monty Hall Games with 3 (the standard number of) doors.  In each game one door has a prize, two doors have goats.  (Which is also a prize if you live on a farm... I guess... but anyways)"
   ]
  },
  {
   "cell_type": "code",
   "execution_count": 2,
   "metadata": {
    "collapsed": true
   },
   "outputs": [],
   "source": [
    "montyhallfx <- function(n_door_start = 3){#how many doors to start w/ - default 3\n",
    "  \n",
    "  door_vector <- vector(length=n_door_start)\n",
    "  door_vector[1] <- TRUE #create a 'winning' door, place it in slot 1 for convenience\n",
    "  door_vector <- sample(door_vector) #shuffle doors around randomly\n",
    "  \n",
    "  door_pick <- sample(length(door_vector),1) #pick a position for your door choice\n",
    "  \n",
    "  false_doors <- which(!door_vector)#identify the false doors' locations\n",
    "  \n",
    "  true_door <- which(door_vector)\n",
    "  \n",
    "  is_original_pick_correct <- door_pick==true_door\n",
    "  \n",
    "  is_switch_pick_correct <- door_pick!=true_door\n",
    "  \n",
    "  #return door pick answer (T or F) and switch pick answer (T or F) as named DT row\n",
    "  return(cbind(is_original_pick_correct,is_switch_pick_correct))\n",
    "}"
   ]
  },
  {
   "cell_type": "markdown",
   "metadata": {},
   "source": [
    "This is the function we will use to run each instance of the Monty Hall game.  Its only argument is how many doors there are (notice that it defaults to 3 -- that is to say, we did not need to specify the number of doors at 3 in the beginning.  We only need to specify the number of doors if we change it.  But first, let's go with the original problem.)"
   ]
  },
  {
   "cell_type": "code",
   "execution_count": 3,
   "metadata": {
    "collapsed": true
   },
   "outputs": [],
   "source": [
    "#create answer DT for n runs\n",
    "df <- data.frame(\"original_pick_correct\"=vector(length=nrun),\"switching_is_correct\"=vector(length=nrun))"
   ]
  },
  {
   "cell_type": "markdown",
   "metadata": {},
   "source": [
    "Before running the games, we set up a data frame to hold all of the simulations.  A data frame is like a table, or a matrix with named columns.  This one will have as many rows as there are runs of the simulation, and will display two binary values: in the left column, whether the original selected door was correct, and in the right, whether switching would get you the right door.  (The only reason to display both of these values is to show that they are perfectly opposite to each other.  If one is true, the other is false and vice versa.)"
   ]
  },
  {
   "cell_type": "code",
   "execution_count": 5,
   "metadata": {},
   "outputs": [],
   "source": [
    "#run n timess\n",
    "for(i in 1:nrun){\n",
    "  df[i,] <- rbind(montyhallfx(n_door_start))\n",
    "}"
   ]
  },
  {
   "cell_type": "markdown",
   "metadata": {},
   "source": [
    "Now we set up a for loop (hush, R purists, it's more readable) and have it run the 'montyhallfx' function for a 3-door game, 1000 ('nrun') times, and save the outcomes in our data frame 'df' so that we can view them.  Let's view some of them:"
   ]
  },
  {
   "cell_type": "code",
   "execution_count": 6,
   "metadata": {},
   "outputs": [
    {
     "data": {
      "text/html": [
       "<table>\n",
       "<thead><tr><th scope=col>original_pick_correct</th><th scope=col>switching_is_correct</th></tr></thead>\n",
       "<tbody>\n",
       "\t<tr><td>FALSE</td><td> TRUE</td></tr>\n",
       "\t<tr><td>FALSE</td><td> TRUE</td></tr>\n",
       "\t<tr><td>FALSE</td><td> TRUE</td></tr>\n",
       "\t<tr><td>FALSE</td><td> TRUE</td></tr>\n",
       "\t<tr><td> TRUE</td><td>FALSE</td></tr>\n",
       "\t<tr><td>FALSE</td><td> TRUE</td></tr>\n",
       "</tbody>\n",
       "</table>\n"
      ],
      "text/latex": [
       "\\begin{tabular}{r|ll}\n",
       " original\\_pick\\_correct & switching\\_is\\_correct\\\\\n",
       "\\hline\n",
       "\t FALSE &  TRUE\\\\\n",
       "\t FALSE &  TRUE\\\\\n",
       "\t FALSE &  TRUE\\\\\n",
       "\t FALSE &  TRUE\\\\\n",
       "\t  TRUE & FALSE\\\\\n",
       "\t FALSE &  TRUE\\\\\n",
       "\\end{tabular}\n"
      ],
      "text/markdown": [
       "\n",
       "original_pick_correct | switching_is_correct | \n",
       "|---|---|---|---|---|---|\n",
       "| FALSE |  TRUE | \n",
       "| FALSE |  TRUE | \n",
       "| FALSE |  TRUE | \n",
       "| FALSE |  TRUE | \n",
       "|  TRUE | FALSE | \n",
       "| FALSE |  TRUE | \n",
       "\n",
       "\n"
      ],
      "text/plain": [
       "  original_pick_correct switching_is_correct\n",
       "1 FALSE                  TRUE               \n",
       "2 FALSE                  TRUE               \n",
       "3 FALSE                  TRUE               \n",
       "4 FALSE                  TRUE               \n",
       "5  TRUE                 FALSE               \n",
       "6 FALSE                  TRUE               "
      ]
     },
     "metadata": {},
     "output_type": "display_data"
    }
   ],
   "source": [
    "head(df)"
   ]
  },
  {
   "cell_type": "markdown",
   "metadata": {},
   "source": [
    "Cool!  So it looks like switching doors will lead you to the correct answer more often than staying with your original door.  Real quickly, let's just check and make sure that these two options are ALWAYS mutually exclusive (as they should be -- if they aren't, there's a bug in the program!  This is a very quick, very dirty test)."
   ]
  },
  {
   "cell_type": "code",
   "execution_count": 9,
   "metadata": {},
   "outputs": [
    {
     "data": {
      "text/html": [
       "FALSE"
      ],
      "text/latex": [
       "FALSE"
      ],
      "text/markdown": [
       "FALSE"
      ],
      "text/plain": [
       "[1] FALSE"
      ]
     },
     "metadata": {},
     "output_type": "display_data"
    }
   ],
   "source": [
    "any(!which(df$original_pick_correct) == which(!df$switching_is_correct))"
   ]
  },
  {
   "cell_type": "markdown",
   "metadata": {},
   "source": [
    "Great!  What that little bit up there just did was check and make sure that for each instance that the original picked door was the right one, the remaining door was NOT.  (ie, there is only one correct door in any game)  Then, of that big long list, it checked to see if anything in it was false (which would have happened if both the original pick and switched pick were correct, a potential bug).  Since there were no false results, this check returned FALSE, which is what we wanted!  Now let's make sure that there is one winning door in ALL the results in the simulation (because another potential bug would be to have neither door correct, which would mean the virtual game show host is cheating!)"
   ]
  },
  {
   "cell_type": "code",
   "execution_count": 14,
   "metadata": {},
   "outputs": [
    {
     "data": {
      "text/html": [
       "TRUE"
      ],
      "text/latex": [
       "TRUE"
      ],
      "text/markdown": [
       "TRUE"
      ],
      "text/plain": [
       "[1] TRUE"
      ]
     },
     "metadata": {},
     "output_type": "display_data"
    }
   ],
   "source": [
    "nrun==length(which(df$original_pick_correct) == which(!df$switching_is_correct)) + length(which(!df$original_pick_correct) == which(df$switching_is_correct))"
   ]
  },
  {
   "cell_type": "markdown",
   "metadata": {},
   "source": [
    "Neat!  Now that we've got that out of the way, let's look at the actual results."
   ]
  },
  {
   "cell_type": "code",
   "execution_count": 17,
   "metadata": {},
   "outputs": [
    {
     "data": {
      "image/png": "[encoded data removed]",
      "text/plain": [
       "Plot with title “Would switching doors win you the game?  \n",
       " In an empirical simulation of 3 initial doors”"
      ]
     },
     "metadata": {},
     "output_type": "display_data"
    }
   ],
   "source": [
    "hist(as.numeric(df[,1]),main=paste0(\"Would switching doors win you the game?  \\n In an empirical simulation of \",n_door_start,\" initial doors\"),\n",
    "     xlab='Yes<-..................................................................->No',\n",
    "ylab=paste0('Frequency (x/',nrun,')'))"
   ]
  },
  {
   "cell_type": "markdown",
   "metadata": {},
   "source": [
    "Hmm at a glance, looks like switching doors would win about 2/3 of the time, not half!  This is in support of the mathematicians' assertion, although it's against some of our intuition.  But let's look at the actual numbers now:"
   ]
  },
  {
   "cell_type": "code",
   "execution_count": 24,
   "metadata": {},
   "outputs": [
    {
     "name": "stdout",
     "output_type": "stream",
     "text": [
      "[1] \"Expected odds of original door winning: 0.333333333333333\"\n",
      "[1] \"Experimental odds of original door winning: 0.3338\"\n"
     ]
    }
   ],
   "source": [
    "expected_odds_original <- 1/n_door_start #the expected odds of the original door being right\n",
    "outcome_original <- length(which(df$original_pick_correct))/nrun\n",
    "\n",
    "print(paste(\"Expected odds of original door winning:\",expected_odds_original))\n",
    "print(paste(\"Experimental odds of original door winning:\",outcome_original))"
   ]
  },
  {
   "cell_type": "markdown",
   "metadata": {},
   "source": [
    "Seems pretty spot on to me!\n",
    "\n",
    "Feel free to run the code blocks again, changing n_door_start (all the way up at the beginning) to, say, 100 (this setup assumes the host will leave you with only two doors), or making nruns so low that the corollary to the law of large numbers results in the experimental odds appearing to contradict the expected ones."
   ]
  },
  {
   "cell_type": "code",
   "execution_count": 25,
   "metadata": {},
   "outputs": [
    {
     "data": {
      "image/png": "[encoded data removed]",
      "text/plain": [
       "Plot with title “Would switching doors win you the game?  \n",
       " In an empirical simulation of 100 initial doors”"
      ]
     },
     "metadata": {},
     "output_type": "display_data"
    }
   ],
   "source": [
    "n_door_start <- 100\n",
    "\n",
    "dt <- data.frame(\"original_pick_correct\"=vector(length=nrun),\n",
    "                 \"switching_is_correct\"=vector(length=nrun))\n",
    "\n",
    "#run n timess\n",
    "for(i in 1:nrun){\n",
    "  dt[i,] <- rbind(montyhallfx(n_door_start))\n",
    "}\n",
    "\n",
    "hist(as.numeric(dt[,1]),main=paste0(\"Would switching doors win you the game?  \\n In an empirical simulation of \",n_door_start,\" initial doors\"),\n",
    "     xlab='Yes<-..................................................................->No',\n",
    "ylab=paste0('Frequency (x/',nrun,')'))"
   ]
  },
  {
   "cell_type": "code",
   "execution_count": null,
   "metadata": {
    "collapsed": true
   },
   "outputs": [],
   "source": []
  }
 ],
 "metadata": {
  "kernelspec": {
   "display_name": "R",
   "language": "R",
   "name": "ir"
  },
  "language_info": {
   "codemirror_mode": "r",
   "file_extension": ".r",
   "mimetype": "text/x-r-source",
   "name": "R",
   "pygments_lexer": "r",
   "version": "3.4.2"
  }
 },
 "nbformat": 4,
 "nbformat_minor": 2
}
